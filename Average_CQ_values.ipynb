import pandas as pd
import xlsxwriter

# =============================================================================
# COPY GENES FROM HERE
# "GAPDH", "CCR9", "CCR10", "CXCR3", "CXCR6", "GPR15"
# =============================================================================
lst = ["CCR9", "CCR10", "CXCR3", "CXCR6", "GPR15"]

for x in lst:
    workbook = xlsxwriter.Workbook(f'{x}.xlsx')
    worksheet = workbook.add_worksheet(f'{x}')
    with open(f'./triplicates/{x}.csv','r') as g:
        gene = pd.read_csv(g)
        aveCq = gene.groupby(['Sample']).mean()       
        aveCq.to_excel(f'./average Ct/{x}.xlsx')


print('data processed successfully')
