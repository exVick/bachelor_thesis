{
 "cells": [
  {
   "cell_type": "code",
   "execution_count": 1,
   "id": "130fd953",
   "metadata": {},
   "outputs": [
    {
     "name": "stdout",
     "output_type": "stream",
     "text": [
      "data processed successfully\n"
     ]
    }
   ],
   "source": [
    "import pandas as pd\n",
    "import xlsxwriter\n",
    "\n",
    "# =============================================================================\n",
    "# COPY GENES FROM HERE\n",
    "# \"GAPDH\", \"CCR9\", \"CCR10\", \"CXCR3\", \"CXCR6\", \"GPR15\"\n",
    "# =============================================================================\n",
    "lst = [\"CCR9\", \"CCR10\", \"CXCR3\", \"CXCR6\", \"GPR15\"]\n",
    "\n",
    "for x in lst:\n",
    "    workbook = xlsxwriter.Workbook(f'{x}.xlsx')\n",
    "    worksheet = workbook.add_worksheet(f'{x}')\n",
    "    with open(f'./triplicates/{x}.csv','r') as g:\n",
    "        gene = pd.read_csv(g)\n",
    "        aveCq = gene.groupby(['Sample']).mean()       \n",
    "        aveCq.to_excel(f'./average Ct/{x}.xlsx')\n",
    "\n",
    "\n",
    "print('data processed successfully')"
   ]
  }
 ],
 "metadata": {
  "kernelspec": {
   "display_name": "Python 3 (ipykernel)",
   "language": "python",
   "name": "python3"
  },
  "language_info": {
   "codemirror_mode": {
    "name": "ipython",
    "version": 3
   },
   "file_extension": ".py",
   "mimetype": "text/x-python",
   "name": "python",
   "nbconvert_exporter": "python",
   "pygments_lexer": "ipython3",
   "version": "3.8.8"
  }
 },
 "nbformat": 4,
 "nbformat_minor": 5
}
