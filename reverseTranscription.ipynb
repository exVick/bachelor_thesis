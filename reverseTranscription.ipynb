{
 "cells": [
  {
   "cell_type": "code",
   "execution_count": 2,
   "id": "3a4875ff-fcb1-4fe3-896d-d1df4f558060",
   "metadata": {},
   "outputs": [
    {
     "name": "stdout",
     "output_type": "stream",
     "text": [
      "Enter your primer here: TTCAGCTCTGGGATGACCTT\n",
      "The reverse transcribed primer AAGGTCATCCCAGAGCTGAA has been copied to the clipboard\n"
     ]
    }
   ],
   "source": [
    "# import sys\n",
    "# !{sys.executable} -m pip install pyperclip\n",
    "import pyperclip\n",
    "\n",
    "changeBase = lambda x: x.replace('A','t').replace('T','a').replace('C','g').replace('G','c')\n",
    "def reverse_PRIMER(word):\n",
    "    if len(word) == 1:\n",
    "        return word\n",
    "    return reverse_PRIMER(word[1:]) + word[0]\n",
    "\n",
    "def revPrimer(primer):\n",
    "    s = changeBase(primer)\n",
    "    r = s.upper()\n",
    "    result = reverse_PRIMER(r)\n",
    "    return result\n",
    "\n",
    "primer = str(input('Enter your primer here: '))\n",
    "pyperclip.copy(revPrimer(primer))\n",
    "print(f'The reverse transcribed primer {revPrimer(primer)} has been copied to the clipboard')"
   ]
  }
 ],
 "metadata": {
  "kernelspec": {
   "display_name": "Python 3 (ipykernel)",
   "language": "python",
   "name": "python3"
  },
  "language_info": {
   "codemirror_mode": {
    "name": "ipython",
    "version": 3
   },
   "file_extension": ".py",
   "mimetype": "text/x-python",
   "name": "python",
   "nbconvert_exporter": "python",
   "pygments_lexer": "ipython3",
   "version": "3.8.8"
  }
 },
 "nbformat": 4,
 "nbformat_minor": 5
}
